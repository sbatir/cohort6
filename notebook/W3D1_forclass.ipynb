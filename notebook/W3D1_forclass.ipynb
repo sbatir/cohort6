{
 "cells": [
  {
   "cell_type": "markdown",
   "metadata": {},
   "source": [
    "# Welcome to Week 3, Day 1\n",
    "\n",
    "Hi class! Today we'll be using the Jupyter notebook to help you visualize some code and directly \n",
    "interact with your environment. "
   ]
  },
  {
   "cell_type": "markdown",
   "metadata": {},
   "source": [
    "## First we import the necessary dependencies"
   ]
  },
  {
   "cell_type": "code",
   "execution_count": null,
   "metadata": {},
   "outputs": [],
   "source": [
    "from pandas import read_csv\n",
    "from sklearn.model_selection import KFold\n",
    "from sklearn.model_selection import cross_val_score\n",
    "from sklearn.linear_model import LinearRegression\n"
   ]
  },
  {
   "cell_type": "markdown",
   "metadata": {},
   "source": [
    "### Check that you can import the filename with no errors. \n",
    "Then highlight on the cell below and click cmd + enter or ctrl + enter, depending on your OS. "
   ]
  },
  {
   "cell_type": "markdown",
   "metadata": {},
   "source": [
    "### Notebook Data Exploration ( 30 minutes)\n",
    "\n",
    "You will be using this in groups of 2. The objective is for you to apply one of our algorithms to perform \"exploratory data analysis\"\n",
    "on this diabetes csv file. You can find the corresponding .csv in the same directory as this folder. "
   ]
  },
  {
   "cell_type": "code",
   "execution_count": 1,
   "metadata": {
    "scrolled": true
   },
   "outputs": [
    {
     "name": "stdout",
     "output_type": "stream",
     "text": [
      "(768, 8)\n",
      "(768,)\n"
     ]
    }
   ],
   "source": [
    "#Final WhiteBoarding ( 30 minutes) \n",
    "#(I've done the pre-processing for you!) You may use this in a code block and then \n",
    "from pandas import read_csv\n",
    "from sklearn.model_selection import KFold\n",
    "from sklearn.model_selection import cross_val_score\n",
    "from sklearn.ensemble import RandomForestClassifier\n",
    "filename = 'diabetes.csv'\n",
    "names = ['pregnancies', 'glucose', 'bp', 'skinthick', 'insulin', 'bmi', 'diabetes', 'age', 'class']\n",
    "dataframe = read_csv(filename, names=names, header=0, index_col=False)\n",
    "#For class label \n",
    "\n",
    "array = dataframe.values\n",
    "#print(array[:,0:8])\n",
    "X = array[:,0:8]\n",
    "print(X.shape)\n",
    "#print(X)\n",
    "Y = array[:,8]\n",
    "#print(Y)\n",
    "print(Y.shape)"
   ]
  },
  {
   "cell_type": "markdown",
   "metadata": {},
   "source": [
    "### Check the shape for sanity"
   ]
  },
  {
   "cell_type": "code",
   "execution_count": null,
   "metadata": {},
   "outputs": [],
   "source": [
    "array.shape"
   ]
  },
  {
   "cell_type": "code",
   "execution_count": null,
   "metadata": {
    "scrolled": false
   },
   "outputs": [],
   "source": [
    "filename = 'iris.data.csv'\n",
    "dataframe = read_csv(filename, sep=',', delim_whitespace=True)\n",
    "array = dataframe.values\n",
    "print(array)"
   ]
  }
 ],
 "metadata": {
  "kernelspec": {
   "display_name": "Python 3",
   "language": "python",
   "name": "python3"
  },
  "language_info": {
   "codemirror_mode": {
    "name": "ipython",
    "version": 3
   },
   "file_extension": ".py",
   "mimetype": "text/x-python",
   "name": "python",
   "nbconvert_exporter": "python",
   "pygments_lexer": "ipython3",
   "version": "3.5.4"
  }
 },
 "nbformat": 4,
 "nbformat_minor": 2
}
